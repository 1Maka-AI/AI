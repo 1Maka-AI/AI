{
 "cells": [
  {
   "cell_type": "code",
   "execution_count": 32,
   "metadata": {},
   "outputs": [],
   "source": [
    "from langchain.chains import LLMChain\n",
    "from langchain.llms import OpenAI\n",
    "from langchain import PromptTemplate\n",
    "import os"
   ]
  },
  {
   "cell_type": "code",
   "execution_count": 63,
   "metadata": {},
   "outputs": [],
   "source": [
    "openaikey_env = open_ai_key\n",
    "os.environ[\"OPENAI_API_KEY\"] = open_ai_key\n",
    "llm = OpenAI(model_name=\"gpt-3.5-turbo-instruct\", max_tokens = 3000)"
   ]
  },
  {
   "cell_type": "code",
   "execution_count": 68,
   "metadata": {},
   "outputs": [],
   "source": [
    "background = \\\n",
    "'''\n",
    "Who:The protagonist is [Alex], a young and ambitious astronaut. [Alex]grew up fascinated by the mysteries of space and had always dreamt of exploring the cosmos. Prior to becoming an astronaut, he worked as an engineer on Earth, where their passion for space exploration was nurtured through years of studying and experimentation.\\n\n",
    "Where:[Alex] and their loyal robotic companion, [Companion], find themselves aboard the ASV(Advanced Space Vessel) Starlight, a state-of-the-art spacecraft, drifting through the vast expanse of interstellar space. \\n\n",
    "The current time is set in the distant future, where humanity has begun its journey beyond the confines of the solar system, venturing into the uncharted territories of the cosmos.\\n\n",
    "Mission:The journey embarked upon by the protagonist was spurred by a monumental discovery made by a team of interstellar researchers. A mysterious signal originating from a distant star system, known only as the \"Stellar Gateway,\" was detected. Eager to unlock the secrets of the universe, [Alex] volunteered for the mission to investigate the source of the signal.\\n\n",
    "What:As the ASV Starlight hurtled through the depths of space, its once pristine exterior was now marred by the scars of a violent cosmic storm. The storm's relentless fury had inflicted damage on multiple critical systems, plunging [Alex] and [Companion] into a perilous struggle for survival.\\n\n",
    "1. Windows shattered, exposing the void: The force of the storm shattered the ship's reinforced windows, sending fractured shards of transparent alloy scattering into the vacuum of space. The breach exposed the crew to the unforgiving cosmic expanse, with only emergency force fields preventing the total loss of atmospheric pressure within the vessel.\\n\n",
    "2. Water circulation system compromised: Within the ship's confines, the delicate balance of life-sustaining resources was thrown into disarray as the water circulation system suffered catastrophic damage. Leaking pipes and ruptured reservoirs caused precious water reserves to evaporate into the void, threatening to leave the crew without the essential resources for survival.\\n\n",
    "3. Power fluctuations plague the propulsion system: The storm's electromagnetic onslaught wreaked havoc on the ship's power distribution network, resulting in erratic fluctuations that crippled the propulsion system. Without a stable power supply, the engines sputtered and faltered, leaving the ASV Starlight adrift amidst the vast expanse of interstellar space.\\n\n",
    "In the wake of this devastation, [Alex] and [Companion] are faced with the daunting task of navigating the labyrinthine corridors of their damaged vessel, assessing the extent of the destruction, and devising a plan to effect repairs before their life support systems fail completely. With each passing moment, the cold void of space looms ever closer, underscoring the urgency of their mission and the dire consequences of failure.\n",
    "'''\n",
    "\n",
    "background = background.replace('[Alex]','Alex').replace('[Companion]', 'Mao')"
   ]
  },
  {
   "cell_type": "code",
   "execution_count": 71,
   "metadata": {},
   "outputs": [],
   "source": [
    "frame_variable = [\"topic\", \"background\", \"course\"]\n",
    "template_frame = \\\n",
    "'''\n",
    "You are a {course} tutor, your audience is teenagers new to coding, your task here is to write 5-7 curriculum to teach topic {topic} in a interactive advanture scenario.\\n\n",
    "You need to create a whole story line following the background: {background}.\\n\n",
    "Each curriculum is designed to finish one mission of the advanture and teach one part of the topic.\n",
    "You need to output a list of curriculums each with title and one sentence description of the mission and the feature you want to teach of that curriculum, the format should be: \"1.[Title] - description:[Description]\"\n",
    "'''\n",
    "prompt_frame = PromptTemplate(\n",
    "    input_variables=frame_variable,\n",
    "    template=template_frame,\n",
    ")\n",
    "\n",
    "\n",
    "\n",
    "\n",
    "content_variable = [\"topic\", \"course\", \"tone\", \"title\", \"description\", \"time\", \"name\"]\n",
    "template_content = \\\n",
    "'''\n",
    "You are a {course} tutor, your audience is teenagers new to coding, your task here is to write a series of curriculum to teach topic {topic} in a interactive advanture scenario.\\n\n",
    "You need to generate content for title {title} based on instruction {description}. The length of each curriculum should be around {time}. The missions here should include game parts that can be easily converted to puzzle games.\\n\n",
    "We have a virtual learning companion whose name is {name} to lead the mission, so you need to generate content in a EXTREMLY conversational way and in a {tone} tone, assign dialogue for the companion and leave blank for learner part.\\\n",
    "'''\n",
    "prompt_content = PromptTemplate(\n",
    "    input_variables=content_variable,\n",
    "    template=template_content,\n",
    ")\n",
    "\n",
    "\n",
    "\n",
    "create_framework_chain = LLMChain(llm=llm,prompt=prompt_frame)\n",
    "\n",
    "\n",
    "framework_result = create_framework_chain.run(course=\"Python\",topic=\"Dictionary\",background=background)\n",
    "\n",
    "curr_list = framework_result.split('\\n')\n",
    "framework = {i.split('-')[0]:i.split('-')[1] for i in curr_list if i}\n",
    "\n",
    "content_list = []\n",
    "for title, description in framework.items():\n",
    "    fill_content_chain = LLMChain(llm=llm,prompt=prompt_content)\n",
    "    content_result = fill_content_chain.run(course=\"Python\",topic=\"Dictionary\",tone=\"encouraging\",time=\"15 min\", name=\"Mao\",title=title,description=description)\n",
    "    content_list.append((title, content_result))"
   ]
  },
  {
   "cell_type": "code",
   "execution_count": 72,
   "metadata": {},
   "outputs": [],
   "source": [
    "with open('dictionary.md','w') as f:\n",
    "    f.write('<h2>Background</h2>')\n",
    "    f.write(background)\n",
    "    f.write('<h2>syllabus</h2>')\n",
    "    for k,v in framework.items():\n",
    "        f.write(f'{k}<ul><li>{v}</li></ul>')\n",
    "    f.write('<h2>curriculum</h2>')\n",
    "    for title,content in content_list:\n",
    "        f.write(f'<h3>{title}</h3>')\n",
    "        f.write(content)"
   ]
  },
  {
   "cell_type": "code",
   "execution_count": null,
   "metadata": {},
   "outputs": [],
   "source": []
  }
 ],
 "metadata": {
  "kernelspec": {
   "display_name": "Python 3",
   "language": "python",
   "name": "python3"
  },
  "language_info": {
   "codemirror_mode": {
    "name": "ipython",
    "version": 3
   },
   "file_extension": ".py",
   "mimetype": "text/x-python",
   "name": "python",
   "nbconvert_exporter": "python",
   "pygments_lexer": "ipython3",
   "version": "3.8.5"
  }
 },
 "nbformat": 4,
 "nbformat_minor": 4
}
